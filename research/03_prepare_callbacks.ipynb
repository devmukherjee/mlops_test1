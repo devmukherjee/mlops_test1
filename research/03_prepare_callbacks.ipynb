{
 "cells": [
  {
   "cell_type": "code",
   "execution_count": 1,
   "id": "c0287686",
   "metadata": {},
   "outputs": [],
   "source": [
    "import os"
   ]
  },
  {
   "cell_type": "code",
   "execution_count": 2,
   "id": "a8f3b350",
   "metadata": {},
   "outputs": [
    {
     "data": {
      "text/plain": [
       "'e:\\\\Python Projects\\\\Deep_learning\\\\mlops_test1\\\\research'"
      ]
     },
     "execution_count": 2,
     "metadata": {},
     "output_type": "execute_result"
    }
   ],
   "source": [
    "%pwd"
   ]
  },
  {
   "cell_type": "code",
   "execution_count": 3,
   "id": "22ad7a37",
   "metadata": {},
   "outputs": [],
   "source": [
    "os.chdir(\"../\")"
   ]
  },
  {
   "cell_type": "code",
   "execution_count": 4,
   "id": "8c9593f3",
   "metadata": {},
   "outputs": [],
   "source": [
    "from dataclasses import dataclass\n",
    "from pathlib import Path\n",
    "@dataclass\n",
    "class PrepareCallbacksConfig:\n",
    "    root_directory: Path\n",
    "    tensorboard_root_log_directory: Path\n",
    "    checkpoint_model_filepath: Path\n",
    "\n"
   ]
  },
  {
   "cell_type": "markdown",
   "id": "6c67b8ba",
   "metadata": {},
   "source": [
    "Update the confiuration manager"
   ]
  },
  {
   "cell_type": "code",
   "execution_count": 5,
   "id": "89062333",
   "metadata": {},
   "outputs": [],
   "source": [
    "from src.chicken_disease_classification.constants import CONFIG_FILE_PATH,PARAMS_FILE_PATH\n",
    "from src.chicken_disease_classification.utils.common import read_yaml,create_directories\n",
    "\n",
    "\n",
    "class ConfigurationManager():\n",
    "    def __init__(self, config_file_path, params_file_path):\n",
    "        self.config= read_yaml(config_file_path)\n",
    "        self.params= read_yaml(params_file_path)\n",
    "        create_directories([self.config.artifacts_root])\n",
    "\n",
    "    def get_prepare_callbacks_config(self)-> PrepareCallbacksConfig :\n",
    "        config= self.config.prepare_callbacks\n",
    "        model_chkpt_dir= os.path.dirname(config.checkpoint_model_filepath)\n",
    "        create_directories([Path(model_chkpt_dir),Path(config.tensorboard_root_log_dir)])\n",
    "\n",
    "        prepare_callbacks_config = PrepareCallbacksConfig(\n",
    "            root_directory=Path(config.root_directory),\n",
    "            tensorboard_root_log_directory= Path(config.tensorboard_root_log_dir),\n",
    "            checkpoint_model_filepath= Path(config.checkpoint_model_filepath)\n",
    "        )\n",
    "        return prepare_callbacks_config\n"
   ]
  },
  {
   "cell_type": "markdown",
   "id": "4176f7b1",
   "metadata": {},
   "source": [
    "Create the component which uses the PrepareCallbacksConfig object"
   ]
  },
  {
   "cell_type": "code",
   "execution_count": 6,
   "id": "f13fe2c8",
   "metadata": {},
   "outputs": [],
   "source": [
    "import os\n",
    "import urllib.request as request\n",
    "from zipfile import ZipFile\n",
    "import tensorflow as tf\n",
    "import time"
   ]
  },
  {
   "cell_type": "code",
   "execution_count": 7,
   "id": "e5b6c8c0",
   "metadata": {},
   "outputs": [],
   "source": [
    "class PrepareCallbacks:\n",
    "    def __init__(self, config:PrepareCallbacksConfig):\n",
    "        self.config= config\n",
    "\n",
    "    @property\n",
    "    def _create_tb_callbacks(self):\n",
    "        timestamp = time.strftime(\"%Y-%m-%d-%H-%M-%S\")\n",
    "        tb_running_log_dir = os.path.join(\n",
    "            self.config.tensorboard_root_log_directory,\n",
    "            f\"tb_logs_at_{timestamp}\",\n",
    "        )\n",
    "        return tf.keras.callbacks.TensorBoard(log_dir=tb_running_log_dir)\n",
    "    \n",
    "\n",
    "    @property\n",
    "    def _create_ckpt_callbacks(self):\n",
    "        return tf.keras.callbacks.ModelCheckpoint(\n",
    "            filepath=self.config.checkpoint_model_filepath,\n",
    "            save_best_only=True\n",
    "        )\n",
    "\n",
    "\n",
    "    def get_tb_ckpt_callbacks(self):\n",
    "        return [\n",
    "            self._create_tb_callbacks,\n",
    "            self._create_ckpt_callbacks\n",
    "        ]\n",
    "\n",
    "\n",
    "        \n",
    "    "
   ]
  },
  {
   "cell_type": "code",
   "execution_count": 8,
   "id": "609d96b5",
   "metadata": {},
   "outputs": [],
   "source": [
    "# create the pipeline\n",
    "from src.chicken_disease_classification.constants import CONFIG_FILE_PATH,PARAMS_FILE_PATH"
   ]
  },
  {
   "cell_type": "code",
   "execution_count": 9,
   "id": "297b3550",
   "metadata": {},
   "outputs": [
    {
     "name": "stdout",
     "output_type": "stream",
     "text": [
      "2025-05-17 21:15:43,018 - INFO - yaml file: e:\\Python Projects\\Deep_learning\\mlops_test1\\config\\config.yaml loaded successfully\n",
      "2025-05-17 21:15:43,026 - INFO - yaml file: e:\\Python Projects\\Deep_learning\\mlops_test1\\params.yaml loaded successfully\n",
      "2025-05-17 21:15:43,026 - INFO - created directory at: artifacts\n",
      "2025-05-17 21:15:43,026 - INFO - created directory at: artifacts\\prepare_callbacks\\checkpoint_dir\n",
      "2025-05-17 21:15:43,026 - INFO - created directory at: artifacts\\prepare_callbacks\\tensorboard_log_dir\n"
     ]
    }
   ],
   "source": [
    "try:\n",
    "    config_manager= ConfigurationManager(config_file_path= CONFIG_FILE_PATH,params_file_path=PARAMS_FILE_PATH)\n",
    "    prepare_callbacks_config= config_manager.get_prepare_callbacks_config()\n",
    "    prepare_callback_component= PrepareCallbacks(config= prepare_callbacks_config)\n",
    "    callback_list= prepare_callback_component.get_tb_ckpt_callbacks()\n",
    "except Exception as e:\n",
    "    raise e"
   ]
  },
  {
   "cell_type": "code",
   "execution_count": null,
   "id": "74bd861e",
   "metadata": {},
   "outputs": [],
   "source": []
  }
 ],
 "metadata": {
  "kernelspec": {
   "display_name": "mlops_env",
   "language": "python",
   "name": "python3"
  },
  "language_info": {
   "codemirror_mode": {
    "name": "ipython",
    "version": 3
   },
   "file_extension": ".py",
   "mimetype": "text/x-python",
   "name": "python",
   "nbconvert_exporter": "python",
   "pygments_lexer": "ipython3",
   "version": "3.10.16"
  }
 },
 "nbformat": 4,
 "nbformat_minor": 5
}
