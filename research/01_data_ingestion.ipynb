{
 "cells": [
  {
   "cell_type": "code",
   "execution_count": 7,
   "id": "469b1bb2",
   "metadata": {},
   "outputs": [],
   "source": [
    "import os"
   ]
  },
  {
   "cell_type": "code",
   "execution_count": 16,
   "id": "ca5849e1",
   "metadata": {},
   "outputs": [
    {
     "data": {
      "text/plain": [
       "'e:\\\\Python Projects\\\\Deep_learning\\\\mlops_test1'"
      ]
     },
     "execution_count": 16,
     "metadata": {},
     "output_type": "execute_result"
    }
   ],
   "source": [
    "%pwd"
   ]
  },
  {
   "cell_type": "code",
   "execution_count": 9,
   "id": "ff579215",
   "metadata": {},
   "outputs": [],
   "source": [
    "os.chdir(\"../\")"
   ]
  },
  {
   "cell_type": "code",
   "execution_count": 10,
   "id": "cd0c8265",
   "metadata": {},
   "outputs": [],
   "source": [
    "# In order to get specific entity ( object with data + configuration variables )\n",
    "# We need to create a special dataclass"
   ]
  },
  {
   "cell_type": "code",
   "execution_count": 11,
   "id": "31a87483",
   "metadata": {},
   "outputs": [],
   "source": [
    "from dataclasses import dataclass\n",
    "from pathlib import Path\n",
    "\n",
    "\n",
    "@dataclass(frozen=True)\n",
    "class DataIngestionConfig :\n",
    "  root_directory: Path\n",
    "  # getting dataset from raw github\n",
    "  source_URL: str\n",
    "  local_data_file: Path\n",
    "  unzip_dir:  Path"
   ]
  },
  {
   "cell_type": "code",
   "execution_count": 12,
   "id": "c51dc839",
   "metadata": {},
   "outputs": [],
   "source": [
    "# Lets import constants\n",
    "from src.chicken_disease_classification.constants import CONFIG_FILE_PATH,PARAMS_FILE_PATH\n",
    "from src.chicken_disease_classification.utils.common import read_yaml, create_directories"
   ]
  },
  {
   "cell_type": "code",
   "execution_count": null,
   "id": "d5dd6263",
   "metadata": {},
   "outputs": [],
   "source": [
    "class ConfigurationManager:\n",
    "    def __init__(self):\n",
    "        self.config_file_path= CONFIG_FILE_PATH\n",
    "        self.params_file_path= PARAMS_FILE_PATH\n",
    "\n",
    "        self.config= read_yaml(CONFIG_FILE_PATH)\n",
    "        self.params= read_yaml(PARAMS_FILE_PATH)\n",
    "\n",
    "        create_directories([self.config.artifacts_root])\n",
    "\n",
    "    def get_data_ingestion_configuration(self) -> DataIngestionConfig:\n",
    "        config= self.config.data_ingestion\n",
    "\n",
    "        create_directories([config.root_directory])\n",
    "\n",
    "        data_ingestion_config= DataIngestionConfig(root_directory= config.root_directory \\\n",
    "                                                   , source_URL= config.source_URL \\\n",
    "                                                   , local_data_file= config.local_data_file\\\n",
    "                                                   ,unzip_dir= config.unzip_dir\n",
    "                                                    )\n",
    "        return data_ingestion_config\n",
    "\n",
    "\n"
   ]
  },
  {
   "cell_type": "code",
   "execution_count": 14,
   "id": "378dc43e",
   "metadata": {},
   "outputs": [],
   "source": [
    "import os\n",
    "from urllib import request\n",
    "import zipfile\n",
    "from src.chicken_disease_classification import logger\n",
    "from src.chicken_disease_classification.utils.common import get_size\n",
    "\n",
    "class DataIngestion:\n",
    "    def __init__(self,config: DataIngestionConfig):\n",
    "        self.config= config\n",
    "    \n",
    "    def download_file(self):\n",
    "        if not os.path.exists(self.config.local_data_file):\n",
    "            try:\n",
    "                filename,headers= request.urlretrieve(\n",
    "                    url= self.config.source_URL,\n",
    "                    filename= self.config.local_data_file\n",
    "                )\n",
    "                logger.info(f\"filename:{filename} downloaded with the following info  :File location: {os.path.abspath(filename)} \\n {headers}\")\n",
    "            except Exception as e:\n",
    "                logger.error(f\"filename: {filename} download failed with Exception {e}\")\n",
    "        else:\n",
    "             logger.info(f\"filename {self.config.local_data_file} already exists with size: {get_size(Path(self.config.local_data_file))}\")\n",
    "\n",
    "    def extract_zip(self):\n",
    "        \"\"\"\n",
    "        Extracts all files from a zip archive.\n",
    "\n",
    "        Args:\n",
    "            zip_file_path (str): The path to the zip file.\n",
    "            extract_path (str, optional): The directory to extract the files to.\n",
    "                Defaults to the current directory (\".\")\n",
    "        \"\"\"\n",
    "        zip_file_path, extract_path= self.config.local_data_file,self.config.unzip_dir\n",
    "        \n",
    "        try:\n",
    "        \n",
    "            with zipfile.ZipFile(zip_file_path, 'r') as zip_ref:\n",
    "                    zip_ref.extractall(extract_path)\n",
    "            logger.info(f\"Successfully extracted all files from '{zip_file_path}' to '{extract_path}'\")\n",
    "        except zipfile.BadZipFile:\n",
    "            logger.error(f\"Error: '{zip_file_path}' is not a valid zip file.\")\n",
    "        except FileNotFoundError:\n",
    "            logger.error(f\"Error: File not found at '{zip_file_path}'\")\n",
    "        except Exception as e:\n",
    "            logger.error(f\"An unexpected error occurred: {e}\")\n",
    "            logger.debug(\"Exception details:\", exc_info=True)  # Log detailed traceback\n",
    "\n",
    "            \n",
    "\n",
    "\n"
   ]
  },
  {
   "cell_type": "code",
   "execution_count": 15,
   "id": "28915625",
   "metadata": {},
   "outputs": [
    {
     "name": "stdout",
     "output_type": "stream",
     "text": [
      "2025-05-15 17:35:48,397 - INFO - yaml file: e:\\Python Projects\\Deep_learning\\mlops_test1\\config\\config.yaml loaded successfully\n",
      "2025-05-15 17:35:48,401 - INFO - yaml file: e:\\Python Projects\\Deep_learning\\mlops_test1\\params.yaml loaded successfully\n",
      "2025-05-15 17:35:48,401 - INFO - created directory at: artifacts\n",
      "2025-05-15 17:35:48,401 - INFO - created directory at: artifacts/data_ingestion\n",
      "2025-05-15 17:35:53,143 - INFO - filename:artifacts/data_ingestion/data.zip downloaded with the following info  :File location: e:\\Python Projects\\Deep_learning\\mlops_test1\\artifacts\\data_ingestion\\data.zip \n",
      " Connection: close\n",
      "Content-Length: 11616915\n",
      "Cache-Control: max-age=300\n",
      "Content-Security-Policy: default-src 'none'; style-src 'unsafe-inline'; sandbox\n",
      "Content-Type: application/zip\n",
      "ETag: \"adf745abc03891fe493c3be264ec012691fe3fa21d861f35a27edbe6d86a76b1\"\n",
      "Strict-Transport-Security: max-age=31536000\n",
      "X-Content-Type-Options: nosniff\n",
      "X-Frame-Options: deny\n",
      "X-XSS-Protection: 1; mode=block\n",
      "X-GitHub-Request-Id: 4AFD:1BA132:EF1F1:2803CA:6825D89D\n",
      "Accept-Ranges: bytes\n",
      "Date: Thu, 15 May 2025 12:05:50 GMT\n",
      "Via: 1.1 varnish\n",
      "X-Served-By: cache-bom4730-BOM\n",
      "X-Cache: MISS\n",
      "X-Cache-Hits: 0\n",
      "X-Timer: S1747310750.812743,VS0,VE901\n",
      "Vary: Authorization,Accept-Encoding,Origin\n",
      "Access-Control-Allow-Origin: *\n",
      "Cross-Origin-Resource-Policy: cross-origin\n",
      "X-Fastly-Request-ID: e42c74bd38b052e6a37370a6bb18c098bebf91a8\n",
      "Expires: Thu, 15 May 2025 12:10:50 GMT\n",
      "Source-Age: 1\n",
      "\n",
      "\n",
      "2025-05-15 17:35:53,328 - INFO - Successfully extracted all files from 'artifacts/data_ingestion/data.zip' to 'artifacts/data_ingestion'\n"
     ]
    }
   ],
   "source": [
    "# Lets get the pipeline\n",
    "try:\n",
    "    configuration_manager= ConfigurationManager()\n",
    "    data_ingestion_config_entity= configuration_manager.get_data_ingestion_configuration()\n",
    "    data_ingester_component= DataIngestion(config= data_ingestion_config_entity)\n",
    "    data_ingester_component.download_file()\n",
    "    data_ingester_component.extract_zip()\n",
    "except Exception as e:\n",
    "    logger.error(\"Data Ingestion Setup failed with Exception: {e}\")\n",
    "    raise e\n"
   ]
  },
  {
   "cell_type": "code",
   "execution_count": null,
   "id": "f4f21ef1",
   "metadata": {},
   "outputs": [],
   "source": []
  }
 ],
 "metadata": {
  "kernelspec": {
   "display_name": "mlops_env",
   "language": "python",
   "name": "python3"
  },
  "language_info": {
   "codemirror_mode": {
    "name": "ipython",
    "version": 3
   },
   "file_extension": ".py",
   "mimetype": "text/x-python",
   "name": "python",
   "nbconvert_exporter": "python",
   "pygments_lexer": "ipython3",
   "version": "3.10.16"
  }
 },
 "nbformat": 4,
 "nbformat_minor": 5
}
